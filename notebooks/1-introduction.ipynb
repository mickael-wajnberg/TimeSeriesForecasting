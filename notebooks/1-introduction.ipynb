{
 "cells": [
  {
   "cell_type": "markdown",
   "source": [
    "import some package : \n",
    "- panda will help you manipulate tables\n",
    "- numpy is helpful for computations\n",
    "- matplotlib makes pretty graphs\n",
    "- statsmodels will help you compute some interesting statistical decompositions \n"
   ],
   "metadata": {
    "collapsed": false
   },
   "id": "650edd2d1c014e95"
  },
  {
   "cell_type": "code",
   "outputs": [],
   "source": [
    "import pandas as pd\n",
    "import numpy as np\n",
    "import matplotlib.pyplot as plt\n",
    "from statsmodels.tsa.seasonal import  STL"
   ],
   "metadata": {
    "collapsed": false
   },
   "id": "initial_id",
   "execution_count": null
  },
  {
   "cell_type": "markdown",
   "source": [
    "we load the johnson and johnson dataset, it shows the stock price per date good practice suggests you plot the head so that you see the dataset structure"
   ],
   "metadata": {
    "collapsed": false
   },
   "id": "3c2e7ad3e66a51f4"
  },
  {
   "cell_type": "code",
   "execution_count": null,
   "outputs": [],
   "source": [
    "df = pd.read_csv('../data/jj.csv')\n",
    "df.head()"
   ],
   "metadata": {
    "collapsed": false
   },
   "id": "87e35fc668ab7aa8"
  },
  {
   "cell_type": "code",
   "execution_count": null,
   "outputs": [],
   "source": [
    "df.tail()"
   ],
   "metadata": {
    "collapsed": false
   },
   "id": "ddfe5f6ee211066e"
  },
  {
   "cell_type": "markdown",
   "source": [
    "let's have a new column with the year, then describe your dataset to grasp distribution \n"
   ],
   "metadata": {
    "collapsed": false
   },
   "id": "ab0f36f22ffc11c3"
  },
  {
   "cell_type": "code",
   "execution_count": null,
   "outputs": [],
   "source": [
    "df['year'] = pd.DatetimeIndex(df['date']).year\n",
    "df.describe()"
   ],
   "metadata": {
    "collapsed": false
   },
   "id": "af5844eb5f709521"
  },
  {
   "cell_type": "markdown",
   "source": [
    "always good practice to visualize also \n",
    "fig.autofmt_xdate() put x labels diagonally for better reading \n",
    "plt.tight_layout() removes space around the figure"
   ],
   "metadata": {
    "collapsed": false
   },
   "id": "6e9db60bbfea4022"
  },
  {
   "cell_type": "code",
   "execution_count": null,
   "outputs": [],
   "source": [
    "fig, ax = plt.subplots()\n",
    "\n",
    "ax.plot(df.date, df.data)\n",
    "ax.set_xlabel('Date')\n",
    "ax.set_ylabel('Earnings per share (USD)')\n",
    "\n",
    "plt.xticks(np.arange(0, 85, 8), [1960, 1962, 1964, 1966, 1968, 1970, 1972, 1974, 1976, 1978, 1980])\n",
    "\n",
    "fig.autofmt_xdate()\n",
    "plt.tight_layout()\n"
   ],
   "metadata": {
    "collapsed": false
   },
   "id": "6ad0819d6e9bc864"
  },
  {
   "cell_type": "markdown",
   "source": [
    "STL fit method estimates season, trend and residuals components."
   ],
   "metadata": {
    "collapsed": false
   },
   "id": "121fa49d1365c0d9"
  },
  {
   "cell_type": "code",
   "execution_count": null,
   "outputs": [],
   "source": [
    "advanced_decomposition = STL(df.data, period=4).fit()"
   ],
   "metadata": {
    "collapsed": false
   },
   "id": "9b64a493c20ed226"
  },
  {
   "cell_type": "markdown",
   "source": [],
   "metadata": {
    "collapsed": false
   },
   "id": "2ebfa81dc9c3abe0"
  },
  {
   "cell_type": "code",
   "execution_count": null,
   "outputs": [],
   "source": [
    "# noinspection PyTypeChecker\n",
    "fig, (ax1, ax2, ax3, ax4) = plt.subplots(nrows=4, ncols=1, sharex=True)\n",
    "\n",
    "ax1.plot(advanced_decomposition.observed)\n",
    "ax1.set_ylabel('Observed')\n",
    "\n",
    "ax2.plot(advanced_decomposition.trend)\n",
    "ax2.set_ylabel('Trend')\n",
    "\n",
    "ax3.plot(advanced_decomposition.seasonal)\n",
    "ax3.set_ylabel('Seasonal')\n",
    "\n",
    "ax4.plot(advanced_decomposition.resid)\n",
    "ax4.set_ylabel('Residuals')\n",
    "\n",
    "\n",
    "plt.xticks(np.arange(0, 84, 8), [1960, 1962, 1964, 1966, 1968, 1970, 1972, 1974, 1976, 1978, 1980])\n",
    "\n",
    "fig.autofmt_xdate()\n",
    "plt.tight_layout()\n"
   ],
   "metadata": {
    "collapsed": false
   },
   "id": "2a4b1e80ae117801"
  },
  {
   "cell_type": "code",
   "execution_count": null,
   "outputs": [],
   "source": [
    "fig, ax = plt.subplots()\n",
    "\n",
    "ax.plot(df.date, df.data)\n",
    "ax.plot(advanced_decomposition.trend, color='lightgrey', linestyle='--', label='Trend')\n",
    "ax.set_xlabel('Date')\n",
    "ax.set_ylabel('Earnings per share (USD)')\n",
    "\n",
    "plt.xticks(np.arange(0, 85, 8), [1960, 1962, 1964, 1966, 1968, 1970, 1972, 1974, 1976, 1978, 1980])\n",
    "\n",
    "fig.autofmt_xdate()\n",
    "plt.tight_layout()\n"
   ],
   "metadata": {
    "collapsed": false
   },
   "id": "d48d028b966631bb"
  },
  {
   "cell_type": "markdown",
   "source": [
    "Since seasonality seems operating per year lets see if given every year except the last one (four data points, since a year has four quarters), we are able to predict the value of the missing year. \n",
    "The idea is to operate incrementally: make a simple prediction model as baseline and every iteration we have a new model and evaluate if the new model is better, if yes, replace baseline"
   ],
   "metadata": {
    "collapsed": false
   },
   "id": "a2baacd9566af57c"
  },
  {
   "cell_type": "code",
   "execution_count": null,
   "outputs": [],
   "source": [
    "train = df[:-4]\n",
    "test = df[-4:]"
   ],
   "metadata": {
    "collapsed": false
   },
   "id": "9a184f74b666a893"
  },
  {
   "cell_type": "markdown",
   "source": [
    "We need to define an evaluation strategy. A simple standard one would be mape: \n",
    "for each data point we take the difference between predicted and observed value, then the score is the mean of the deviations "
   ],
   "metadata": {
    "collapsed": false
   },
   "id": "9f5e85c9b8f1c058"
  },
  {
   "cell_type": "code",
   "execution_count": null,
   "outputs": [],
   "source": [
    "def mape(y_true, y_pred):\n",
    "    val = np.mean(np.abs((y_true - y_pred) / y_true)) * 100\n",
    "    print('average error is',val)\n",
    "    return val"
   ],
   "metadata": {
    "collapsed": false
   },
   "id": "8641e71f55bb3a8"
  },
  {
   "cell_type": "markdown",
   "source": [
    "and let's add a function to easily show results "
   ],
   "metadata": {
    "collapsed": false
   },
   "id": "2342f62be8c63039"
  },
  {
   "cell_type": "code",
   "execution_count": null,
   "outputs": [],
   "source": [
    "def print_result_graph(column):\n",
    "    _fig, _ax = plt.subplots()\n",
    "\n",
    "    _ax.plot(train['date'], train['data'], 'g-.', label='Train')\n",
    "    _ax.plot(test['date'], test['data'], 'b-', label='Test')\n",
    "    _ax.plot(test['date'], test[column], 'r--', label='Predicted')\n",
    "    _ax.set_xlabel('Date')\n",
    "    _ax.set_ylabel('Earnings per share (USD)')\n",
    "    _ax.axvspan(80, 83, color='#808080', alpha=0.2)\n",
    "    _ax.legend(loc=2)\n",
    "\n",
    "    plt.xticks(np.arange(0, 85, 8), [1960, 1962, 1964, 1966, 1968, 1970, 1972, 1974, 1976, 1978, 1980])\n",
    "\n",
    "    _fig.autofmt_xdate()\n",
    "    plt.tight_layout()"
   ],
   "metadata": {
    "collapsed": false
   },
   "id": "620f246cb545b205"
  },
  {
   "cell_type": "markdown",
   "source": [
    "The first strategy is to use the historical mean as the first baseline"
   ],
   "metadata": {
    "collapsed": false
   },
   "id": "46bc46c9f3ae81bd"
  },
  {
   "cell_type": "code",
   "execution_count": null,
   "outputs": [],
   "source": [
    "historical_mean = np.mean(train['data'])\n",
    "test.loc[:, 'pred_histo_mean'] = historical_mean\n",
    "mape_hist_mean = mape(test['data'], test['pred_histo_mean'])\n",
    "print_result_graph(\"pred_histo_mean\")\n"
   ],
   "metadata": {
    "collapsed": false
   },
   "id": "6a93655a1cb0f285"
  },
  {
   "cell_type": "markdown",
   "source": [
    "the score is awful, but that was to be expected since the trend is moving,\n",
    "the diagram is pretty clear on why "
   ],
   "metadata": {
    "collapsed": false
   },
   "id": "69aec6b188aac294"
  },
  {
   "cell_type": "markdown",
   "source": [
    "let's implement a new method: mean only on last year "
   ],
   "metadata": {
    "collapsed": false
   },
   "id": "e1107ba284a48138"
  },
  {
   "cell_type": "code",
   "execution_count": null,
   "outputs": [],
   "source": [
    "last_year_mean = np.mean(train['data'][-4:])\n",
    "test.loc[:, 'pred__last_yr_mean'] = last_year_mean\n",
    "mape_last_year_mean = mape(test['data'], test['pred__last_yr_mean'])\n",
    "print_result_graph('pred__last_yr_mean')\n"
   ],
   "metadata": {
    "collapsed": false
   },
   "id": "c2294fb2ccaf23b5"
  },
  {
   "cell_type": "markdown",
   "source": [
    "we can also try to predict the last known value "
   ],
   "metadata": {
    "collapsed": false
   },
   "id": "d2bbc9c2c6497644"
  },
  {
   "cell_type": "code",
   "execution_count": null,
   "outputs": [],
   "source": [
    "last = train['data'].iloc[-1]\n",
    "test.loc[:, 'pred_last'] = last\n",
    "mape_last = mape(test['data'], test['pred_last'])\n",
    "print_result_graph(\"pred_last\")"
   ],
   "metadata": {
    "collapsed": false
   },
   "id": "706671915ed732d6"
  },
  {
   "cell_type": "markdown",
   "source": [
    "error is worse than last year's average \n",
    "lets use the seasonality naively: take the value of the same quarter year earlier  "
   ],
   "metadata": {
    "collapsed": false
   },
   "id": "ff1e397948832f6f"
  },
  {
   "cell_type": "code",
   "execution_count": null,
   "outputs": [],
   "source": [
    "test.loc[:, 'pred_last_season'] = train['data'][-4:].values\n",
    "mape_naive_seasonal = mape(test['data'], test['pred_last_season'])\n",
    "print_result_graph('pred_last_season')"
   ],
   "metadata": {
    "collapsed": false
   },
   "id": "d2291c4fb49fc8c3"
  },
  {
   "cell_type": "markdown",
   "source": [
    "now let's wrap up by comparing everything "
   ],
   "metadata": {
    "collapsed": false
   },
   "id": "330e679134b3fb62"
  },
  {
   "cell_type": "code",
   "execution_count": null,
   "outputs": [],
   "source": [
    "fig, ax = plt.subplots()\n",
    "\n",
    "x = ['hist_mean', 'last_year_mean', 'last', 'naive_seasonal']\n",
    "y = [70.00, 15.60, 30.46, 11.56]\n",
    "\n",
    "ax.bar(x, y, width=0.4)\n",
    "ax.set_xlabel('Baselines')\n",
    "ax.set_ylabel('MAPE (%)')\n",
    "ax.set_ylim(0, 75)\n",
    "\n",
    "for index, value in enumerate(y):\n",
    "    plt.text(x=index, y=value + 1, s=str(value), ha='center')\n",
    "\n",
    "plt.tight_layout()"
   ],
   "metadata": {
    "collapsed": false
   },
   "id": "1ec7b4ad9ba318e2"
  },
  {
   "cell_type": "code",
   "execution_count": null,
   "outputs": [],
   "source": [],
   "metadata": {
    "collapsed": false
   },
   "id": "871d11a92ac02769"
  }
 ],
 "metadata": {
  "kernelspec": {
   "display_name": "Python 3",
   "language": "python",
   "name": "python3"
  },
  "language_info": {
   "codemirror_mode": {
    "name": "ipython",
    "version": 2
   },
   "file_extension": ".py",
   "mimetype": "text/x-python",
   "name": "python",
   "nbconvert_exporter": "python",
   "pygments_lexer": "ipython2",
   "version": "2.7.6"
  }
 },
 "nbformat": 4,
 "nbformat_minor": 5
}
